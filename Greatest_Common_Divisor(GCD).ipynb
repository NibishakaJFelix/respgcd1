{
 "cells": [
  {
   "cell_type": "markdown",
   "id": "3730e586",
   "metadata": {},
   "source": [
    "# GCD\n",
    "In mathematics, the greatest common divisor (GCD) of two or more integers, which are not all zero, is the largest positive integer that divides each of the integers. For two integers x, y, the greatest common divisor of x and y is denoted \n",
    "$gcd(x,y)$.\n",
    "In the name \"greatest common divisor\", the adjective \"greatest\" may be replaced by \"highest\", and the word \"divisor\" may be replaced by \"factor\", so that other names include highest common factor (hcf)."
   ]
  },
  {
   "cell_type": "code",
   "execution_count": 1,
   "id": "bb62610b",
   "metadata": {},
   "outputs": [
    {
     "name": "stdout",
     "output_type": "stream",
     "text": [
      "Enter the number of integers: 2\n",
      "Enter integer 1: 8\n",
      "Enter integer 2: 12\n",
      "The GCD of 8, 12 is 4.\n"
     ]
    }
   ],
   "source": [
    "# Define a function to find the greatest common divisor of two numbers\n",
    "def gcd(a, b):\n",
    "    while b:\n",
    "        a, b = b, a % b\n",
    "    return a\n",
    "\n",
    "# Get the numbers from the user\n",
    "n = int(input(\"Enter the number of integers: \"))\n",
    "numbers = []\n",
    "for i in range(n):\n",
    "    number = int(input(f\"Enter integer {i+1}: \"))\n",
    "    numbers.append(number)\n",
    "\n",
    "# Find the GCD of the numbers\n",
    "gcd_value = numbers[0]\n",
    "for i in range(1, n):\n",
    "    gcd_value = gcd(gcd_value, numbers[i])\n",
    "\n",
    "# Print the result\n",
    "print(f\"The GCD of {', '.join(str(x) for x in numbers)} is {gcd_value}.\")\n"
   ]
  },
  {
   "cell_type": "markdown",
   "id": "994d1ce4",
   "metadata": {},
   "source": [
    "# the above code run in jupyter notebook.\n",
    "\n",
    "When you run this code, it will ask the user to enter the number of integers they want to calculate the GCD for, and then it will ask the user to enter each integer. After getting the input, it will compute and print the greatest common divisor of the numbers.\n",
    "\n",
    "In this code, we're first defining the gcd() function, which uses the Euclidean algorithm to find the greatest common divisor of two numbers.\n",
    "\n",
    "After getting the input from the user, we're computing the GCD of the numbers using a loop that calls the gcd() function repeatedly. We're starting with the first number in the list, and then we're computing the GCD of that number and the next number in the list, and so on, until we've processed all the numbers.\n",
    "\n",
    "Finally, we're printing the result using string formatting, and we're using the join() method to concatenate the numbers in the list with commas."
   ]
  },
  {
   "cell_type": "code",
   "execution_count": null,
   "id": "dcd0c150",
   "metadata": {},
   "outputs": [],
   "source": []
  }
 ],
 "metadata": {
  "kernelspec": {
   "display_name": "Python 3 (ipykernel)",
   "language": "python",
   "name": "python3"
  },
  "language_info": {
   "codemirror_mode": {
    "name": "ipython",
    "version": 3
   },
   "file_extension": ".py",
   "mimetype": "text/x-python",
   "name": "python",
   "nbconvert_exporter": "python",
   "pygments_lexer": "ipython3",
   "version": "3.9.12"
  }
 },
 "nbformat": 4,
 "nbformat_minor": 5
}
